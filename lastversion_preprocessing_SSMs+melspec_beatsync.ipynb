{
  "nbformat": 4,
  "nbformat_minor": 0,
  "metadata": {
    "colab": {
      "name": "lastversion_preprocessing_SSMs+melspec_beatsync.ipynb",
      "version": "0.3.2",
      "provenance": [],
      "include_colab_link": true
    },
    "kernelspec": {
      "name": "python3",
      "display_name": "Python 3"
    },
    "accelerator": "GPU"
  },
  "cells": [
    {
      "cell_type": "markdown",
      "metadata": {
        "id": "view-in-github",
        "colab_type": "text"
      },
      "source": [
        "<a href=\"https://colab.research.google.com/github/melou-slr/PFE-2019---MIR/blob/master/lastversion_preprocessing_SSMs%2Bmelspec_beatsync.ipynb\" target=\"_parent\"><img src=\"https://colab.research.google.com/assets/colab-badge.svg\" alt=\"Open In Colab\"/></a>"
      ]
    },
    {
      "cell_type": "code",
      "metadata": {
        "id": "-TA0nee9xNeA",
        "colab_type": "code",
        "outputId": "e66dbe1e-b1bc-44fe-934b-4753c8d224be",
        "colab": {
          "base_uri": "https://localhost:8080/",
          "height": 54
        }
      },
      "source": [
        "from google.colab import drive\n",
        "drive.mount('/content/drive')\n",
        "\n",
        "import pandas as pd\n",
        "import numpy as np\n",
        "import scipy.io\n",
        "import matplotlib.pyplot as plt\n",
        "from matplotlib import patches\n",
        "\n",
        "from PIL import Image\n",
        "import pylab as pyl\n",
        "\n",
        "import tensorflow as tf\n",
        "import keras\n",
        "import sklearn\n",
        "import h5py\n",
        "import shutil\n",
        "import scipy\n",
        "import cython\n",
        "import mido\n",
        "import pytest\n",
        "import six\n",
        "import librosa\n",
        "\n",
        "import IPython.display\n",
        "\n",
        "from pathlib import Path"
      ],
      "execution_count": 0,
      "outputs": [
        {
          "output_type": "stream",
          "text": [
            "Drive already mounted at /content/drive; to attempt to forcibly remount, call drive.mount(\"/content/drive\", force_remount=True).\n"
          ],
          "name": "stdout"
        },
        {
          "output_type": "stream",
          "text": [
            "Using TensorFlow backend.\n"
          ],
          "name": "stderr"
        }
      ]
    },
    {
      "cell_type": "code",
      "metadata": {
        "id": "EE2erJEmxgH4",
        "colab_type": "code",
        "outputId": "26583f89-3bc4-4e62-905a-37ac98e501b6",
        "colab": {
          "base_uri": "https://localhost:8080/",
          "height": 277
        }
      },
      "source": [
        "pip install --upgrade librosa"
      ],
      "execution_count": 0,
      "outputs": [
        {
          "output_type": "stream",
          "text": [
            "Requirement already up-to-date: librosa in /usr/local/lib/python3.6/dist-packages (0.7.0)\n",
            "Requirement already satisfied, skipping upgrade: six>=1.3 in /usr/local/lib/python3.6/dist-packages (from librosa) (1.12.0)\n",
            "Requirement already satisfied, skipping upgrade: joblib>=0.12 in /usr/local/lib/python3.6/dist-packages (from librosa) (0.13.2)\n",
            "Requirement already satisfied, skipping upgrade: scipy>=1.0.0 in /usr/local/lib/python3.6/dist-packages (from librosa) (1.3.0)\n",
            "Requirement already satisfied, skipping upgrade: numpy>=1.15.0 in /usr/local/lib/python3.6/dist-packages (from librosa) (1.16.4)\n",
            "Requirement already satisfied, skipping upgrade: audioread>=2.0.0 in /usr/local/lib/python3.6/dist-packages (from librosa) (2.1.8)\n",
            "Requirement already satisfied, skipping upgrade: soundfile>=0.9.0 in /usr/local/lib/python3.6/dist-packages (from librosa) (0.10.2)\n",
            "Requirement already satisfied, skipping upgrade: numba>=0.38.0 in /usr/local/lib/python3.6/dist-packages (from librosa) (0.40.1)\n",
            "Requirement already satisfied, skipping upgrade: scikit-learn!=0.19.0,>=0.14.0 in /usr/local/lib/python3.6/dist-packages (from librosa) (0.21.3)\n",
            "Requirement already satisfied, skipping upgrade: resampy>=0.2.0 in /usr/local/lib/python3.6/dist-packages (from librosa) (0.2.1)\n",
            "Requirement already satisfied, skipping upgrade: decorator>=3.0.0 in /usr/local/lib/python3.6/dist-packages (from librosa) (4.4.0)\n",
            "Requirement already satisfied, skipping upgrade: cffi>=1.0 in /usr/local/lib/python3.6/dist-packages (from soundfile>=0.9.0->librosa) (1.12.3)\n",
            "Requirement already satisfied, skipping upgrade: llvmlite>=0.25.0dev0 in /usr/local/lib/python3.6/dist-packages (from numba>=0.38.0->librosa) (0.29.0)\n",
            "Requirement already satisfied, skipping upgrade: pycparser in /usr/local/lib/python3.6/dist-packages (from cffi>=1.0->soundfile>=0.9.0->librosa) (2.19)\n"
          ],
          "name": "stdout"
        }
      ]
    },
    {
      "cell_type": "code",
      "metadata": {
        "id": "OJO9sTFExkj6",
        "colab_type": "code",
        "outputId": "2f9415eb-295b-4b9d-a091-48fa68546c68",
        "colab": {
          "base_uri": "https://localhost:8080/",
          "height": 110
        }
      },
      "source": [
        "!pip install madmom"
      ],
      "execution_count": 0,
      "outputs": [
        {
          "output_type": "stream",
          "text": [
            "Requirement already satisfied: madmom in /usr/local/lib/python3.6/dist-packages (0.16.1)\n",
            "Requirement already satisfied: mido>=1.2.8 in /usr/local/lib/python3.6/dist-packages (from madmom) (1.2.9)\n",
            "Requirement already satisfied: scipy>=0.16 in /usr/local/lib/python3.6/dist-packages (from madmom) (1.3.0)\n",
            "Requirement already satisfied: cython>=0.25 in /usr/local/lib/python3.6/dist-packages (from madmom) (0.29.13)\n",
            "Requirement already satisfied: numpy>=1.13.4 in /usr/local/lib/python3.6/dist-packages (from madmom) (1.16.4)\n"
          ],
          "name": "stdout"
        }
      ]
    },
    {
      "cell_type": "code",
      "metadata": {
        "id": "h0qXtbe0xrTi",
        "colab_type": "code",
        "outputId": "d89c1de6-ed30-4613-8abe-cb2a602930e3",
        "colab": {
          "base_uri": "https://localhost:8080/",
          "height": 36
        }
      },
      "source": [
        "import madmom\n",
        "import librosa\n",
        "import librosa.display\n",
        "\n",
        "import os\n",
        "os.chdir('/content/drive/My Drive/Colab Notebooks/')\n",
        "!pwd\n",
        "import os.path\n",
        "from os import path"
      ],
      "execution_count": 0,
      "outputs": [
        {
          "output_type": "stream",
          "text": [
            "/content/drive/My Drive/Colab Notebooks\n"
          ],
          "name": "stdout"
        }
      ]
    },
    {
      "cell_type": "code",
      "metadata": {
        "id": "ZAHrxP8niThA",
        "colab_type": "code",
        "colab": {}
      },
      "source": [
        "#ID of SALAMI files for train set\n",
        "\n",
        "idSALAMITrain = [1198,  1550,  126,  1246,  822,  250,  1168,  520,  694,  330,\n",
        "\n",
        "574,  18,  200,  986,  482,  1606,  1222,  536,  722,  690,  1384,  998,  1464, \n",
        "\n",
        "1218,  396,  1318,  464,  1402,  438,  270,  976,  784,  264,  1556,  384,  \n",
        "\n",
        "1594,  1292,  1468,  290,  40,  500,  338,  1630,  538,  552,  572,  1108,  \n",
        "\n",
        "1654,  284,  1524,  888,  1414,  456,  1194,  1274,  1442,  502,  64,  904,  \n",
        "\n",
        "288,  1508,  1600,  138,  988,  732,  674,  136,  1404,  160,  122,  704,  884,\n",
        "\n",
        "1196,  1236,  686,  416,  1538,  468,  566,  766,  1294,  1588,  1144,  1346, \n",
        "\n",
        "1544,  718,  316,  606,  398,  1338,  706,  780,  1240,  1434,  1532,  592,  \n",
        "\n",
        "530,  128,  496,  1642,  682,  426,  1620,  1202,  1266,  688,  1228,  1644,  \n",
        "\n",
        "618,  1192,  1348,  576,  262,  1334,  906,  1234,  100,  1610,  192,  198,  \n",
        "\n",
        "1176,  82,  968,  280,  514,  1438,  556,  840,  936,  1232,  1552,  590,  346, \n",
        "\n",
        "1092,  1256,  994,  124,  1094,  926,  1244,  908,  2,  952,  356,  344,  708, \n",
        "\n",
        "990,  1138,  1452,  458,  626,  432,  222,  1280,  684,  1558,  380,  470,  \n",
        "\n",
        "322,  672,  452,  554,  48,  670,  668,  50,  1604,  216,  1472,  454,  792, \n",
        "\n",
        "734,  1652,  636,  424,  790,  1068,  754,  1368,  836,  1528,  616,  412,  \n",
        "\n",
        "1382,  838,  638,  348,  1296,  1446,  634,  666,  1160,  1432,  1184,  778,  \n",
        "\n",
        "38,  1122,  640,  1182,  578,  1114,  184,  370,  1536,  526,  1444,  158,  \n",
        "\n",
        "1614,  324,  1518,  1208,  630,  1352,  1276,  298,  1622,  1356,  1372,  476,  \n",
        "\n",
        "1640,  1180,  466,  644,  1522,  588,  656,  10,  844,  1358,  276,  1042,  46,  \n",
        "\n",
        "892,  44,  1526,  1436,  870,  362,  562,  328,  996,  1400,  364,  692,  1200,  \n",
        "\n",
        "876,  1162,  1448,  1204,  752,  542,  1336,  1324,  600,  368,  720,  214,  \n",
        "\n",
        "336,  1106,  188,  414,  1392,  1548,  730,  1574,  1148,  698,  970,  1494,  6,  \n",
        "\n",
        "120,  1370,  494,  800,  1496,  820,  1116,  700,  1510,  242,  1210,  1650,  98,  \n",
        "\n",
        "340,  608,  1172,  612,  678,  212,  486,  1082,  236,  318,  1482,  8,  622,  \n",
        "\n",
        "1580,  400,  1328,  1498,  1096,  1252,  736,  190,  164,  1270,  1216,  1312,  \n",
        "\n",
        "1540,  1512,  436,  366,  140,  584,  480,  32,  1572,  24,  934,  58,  334,  \n",
        "\n",
        "146,  1304,  632,  492,  920,  1220,  1376,  1278,  1504,  1350,  474,  798,  \n",
        "\n",
        "326,  1612,  350,  1226,  1396,  1084,  1520,  1560,  402,  1188,  388,  958,  \n",
        "\n",
        "978,  1360,  446,  662,  310,  546,  12,  1454,  258,  846,  450,  1578,  550,  \n",
        "\n",
        "294,  296,  1456,  404,  1570,  896,  68,  354,  534,  710,  244,  30,  568,  \n",
        "\n",
        "852,  132,  1380,  234,  570,  946,  748,  1166,  1422,  448,  1418,  1406, \n",
        "\n",
        "460,  1344,  1408,  162,  596,  770,  806,  862,  4,  410,  1310,  112,  34,  \n",
        "\n",
        "964,  1460,  1608,  36,  1154,  1128,  726,  260,  676,  924,  1330,  1238,  \n",
        "\n",
        "278,  648,  1628,  598,  1390,  1624,  528,  406,  1420,  750,  740,  1388,  \n",
        "\n",
        "756,  1582,  916,  386,  1412,  272,  1300,  1074,  1530,  228,  488,  152,  \n",
        "\n",
        "1394,  1584,  114,  828,  360,  582,  1374,  1514,  490,  1164,  498,  724,  \n",
        "\n",
        "762,  108,  428,  714,  786,  1146,  186,  1286,  372,  782,  1150,  1470,  940,  \n",
        "\n",
        "54,  808,  696,  358,  728,  1130] \n",
        "\n",
        "\n",
        "\n",
        "#ID of SALAMI files for validation set\n",
        "\n",
        "idSALAMIVal =  [746,  382,  956,  788,  832,  716,  116,  1158,  1490,  768,  \n",
        "\n",
        "166,  78,  312,  760,  1386,  900,  1254,  812,  814,  860,  1090,  378,  1132,  \n",
        "\n",
        "646,  614,  540,  1308,  1516,  882,  742,  930,  22,  864,  1156,  484,  818,  \n",
        "\n",
        "628,  110,  462,  1206,  866,  1362,  1428,  510,  826,  652,  420] \n",
        "\n",
        "\n",
        "\n",
        " \n",
        "\n",
        "#ID of SALAMI files for test set\n",
        "\n",
        "idSALAMITest = [758, 1484, 342,  1070,  248,  624,  1072,  594,  794,  202,  \n",
        "\n",
        "868,  702,  442,  1268,  1502,  434,  266,  796,  1088,  20,  654,  980,  856,  \n",
        "\n",
        "1458,  922,  176,  544,  1134,  306,  1450,  352,  1288,  858,  910,  1186,  \n",
        "\n",
        "418,  1566,  902,  1212,  1342,  1568,  142,  744,  1306,  1592,  1366,  1098,  \n",
        "\n",
        "1364,  28,  1078,  1174,  1554,  660,  148,  1142,  1424,  880,  1230,  972,  \n",
        "\n",
        "180,  156,  854,  1488,  320,  658,  210,  42,  1332,  444,  392,  1616,  1634,  \n",
        "\n",
        "220,  274,  1354,  1314,  252,  1646,  1284,  1044,  1534,  1576,  950,  586,  \n",
        "\n",
        "1224,  512,  532,  1100,  304,  558,  430,  314,  938,  1298,  1190,  1462,  \n",
        "\n",
        "774,  816,  472,  1086,  16,  440,  928,  772,  824,  1636,  1080,  974,  1316,  \n",
        "\n",
        "1260,  308,  1322,  848,  680,  394,  960,  268,  1480,  1648,  564,  914,  422,  \n",
        "\n",
        "504,  232,  60,  712,  150,  602,  88,  94,  168,  580,  1478,  850,  1124, \n",
        "\n",
        "650,  170,  56,  1590,  1596,  1242,  204,  1626,  92,  738,  944,  1476,  86,  \n",
        "\n",
        "1282,  1506,  72,  620,  130,  1562,  954,  932,  802,  1340,  506,  1264,  604,  \n",
        "\n",
        "1250,  254,  1214,  286,  1104,  118,  898,  1102,  1492,  912,  1248,  942,  \n",
        "\n",
        "408,  478,  26,  1262,  1474,  878,  834,  1542,  52,  810,  1632,  984,  664,  \n",
        "\n",
        "154,  982,  1066,  548,  1326,  1118,  642,  1638,  894,  104,  1272,  992,  \n",
        "\n",
        "218,  962,  776,  1564,  1598,  14,  1290,  842,  1120,  1416,  1618,  524,  \n",
        "\n",
        "1076,  522,  282,  1170,  874,  1586,  516,  1602,  890,  1112,  830,  948,  \n",
        "\n",
        "518,  332,  886,  1110,  1378,  508,  1546,  1302,  610,  206,  374,  1152,  \n",
        "\n",
        "302,  1136]"
      ],
      "execution_count": 0,
      "outputs": []
    },
    {
      "cell_type": "code",
      "metadata": {
        "id": "OdL3IVGOyDxt",
        "colab_type": "code",
        "colab": {}
      },
      "source": [
        "def trouver_la_liste(beat_frames,annot_frames):\n",
        "  \n",
        "  i=0\n",
        "  liste=[]\n",
        "  \n",
        "\n",
        "  \n",
        "  for k in range (len(annot_frames)): \n",
        "    \n",
        "    annot=annot_frames[k]\n",
        "    \n",
        "    while i<=len(beat_frames)-1 and beat_frames[i]<=annot:\n",
        "      i=i+1\n",
        "      \n",
        "    if (i-1)<=len(beat_frames)-1  and  beat_frames[i-1]<=annot:\n",
        "      liste.append(i-1)\n",
        "      i=i+1\n",
        "    else:\n",
        "      i=i+1\n",
        " \n",
        "  return(liste)"
      ],
      "execution_count": 0,
      "outputs": []
    },
    {
      "cell_type": "code",
      "metadata": {
        "id": "IDtqpZqnx3Br",
        "colab_type": "code",
        "colab": {}
      },
      "source": [
        "  i=idSALAMITest[0]\n",
        "#for i in idSALAMITest:\n",
        "  val=i\n",
        "  F=100\n",
        "    \n",
        "  y,sr=librosa.load('/content/drive/My Drive/Colab Notebooks/PFE/SALAMI/'+str(i)+'.mp3')\n",
        "  y_later_use=y\n",
        "  proc = madmom.features.downbeats.DBNDownBeatTrackingProcessor(beats_per_bar=[3, 4], fps=100)\n",
        "  act = madmom.features.downbeats.RNNDownBeatProcessor()(y)\n",
        "  estimated = proc(act)\n",
        "  beats = estimated[:,0]\n",
        "  beats_frames=librosa.core.time_to_frames(beats, sr=sr*2)\n",
        "  \n",
        "   \n",
        "  # Set the hop length; at 22050 Hz, 512 samples ~= 23ms\n",
        "  hop_length = 512\n",
        "\n",
        "  # Separate harmonics and percussives into two waveforms\n",
        "  y_harmonic, y_percussive = librosa.effects.hpss(y)\n",
        "\n",
        "\n",
        "  # Compute MFCC features from the raw signal\n",
        "  mfcc = librosa.feature.mfcc(y=y, sr=sr, hop_length=hop_length, n_mfcc=13)\n",
        "  beats_frames=np.insert(beats_frames,0, 0)\n",
        "  beats_frames=np.append(beats_frames,len(mfcc.T)-1)\n",
        "  \n",
        "  \n",
        "  if path.exists('/content/drive/My Drive/Colab Notebooks/PFE/SALAMI_annotations/annotations/'+str(i)+'/parsed/textfile1_functions.txt'):\n",
        "    txt1 = Path('/content/drive/My Drive/Colab Notebooks/PFE/SALAMI_annotations/annotations/'+str(i)+'/parsed/textfile1_functions.txt').read_text()\n",
        "    for t in txt1:\n",
        "      if t!='0' and t!='1' and t!='2' and t!='3' and t!='4' and t!='5' and t!='6' and t!='7' and t!='8' and t!='9' and t!='.':\n",
        "        txt1 = txt1.replace(t,' ')\n",
        "    annot_s1=txt1.split()\n",
        "    annot_sec1=list(map(float, annot_s1))\n",
        "    annot_frames1=librosa.core.time_to_frames(annot_sec1, sr=sr)\n",
        "    liste1=trouver_la_liste(beats_frames,annot_frames1)\n",
        "    \n",
        "  else:\n",
        "    liste1=[]\n",
        "  \n",
        "  if path.exists('/content/drive/My Drive/Colab Notebooks/PFE/SALAMI_annotations/annotations/'+str(i)+'/parsed/textfile2_functions.txt'):\n",
        "    txt2 = Path('/content/drive/My Drive/Colab Notebooks/PFE/SALAMI_annotations/annotations/'+str(i)+'/parsed/textfile2_functions.txt').read_text()   \n",
        "    for t in txt2:\n",
        "      if t!='0' and t!='1' and t!='2' and t!='3' and t!='4' and t!='5' and t!='6' and t!='7' and t!='8' and t!='9' and t!='.':\n",
        "        txt2 = txt2.replace(t,' ')\n",
        "    annot_s2=txt2.split()\n",
        "    annot_sec2=list(map(float, annot_s2))\n",
        "    annot_frames2=librosa.core.time_to_frames(annot_sec2, sr=sr)\n",
        "    liste2=trouver_la_liste(beats_frames,annot_frames2)\n",
        "    \n",
        "  else:\n",
        "    liste2=[]  \n",
        "\n",
        "  # And the first-order differences (delta features)\n",
        "  mfcc_delta = librosa.feature.delta(mfcc)\n",
        "\n",
        "  # Stack and synchronize between beat events\n",
        "  # This time, we'll use the mean value (default) instead of median\n",
        "  beat_mfcc_delta = librosa.util.sync(np.vstack([mfcc, mfcc_delta]),\n",
        "                                    beats_frames)\n",
        "\n",
        "  # Compute chroma features from the harmonic signal\n",
        "  chromagram = librosa.feature.chroma_cqt(y=y_harmonic,\n",
        "                                        sr=sr)\n",
        "\n",
        "  # Aggregate chroma features between beat events\n",
        "  # We'll use the median value of each feature between beat frames\n",
        "  beat_chroma = librosa.util.sync(chromagram,\n",
        "                                beats_frames,\n",
        "                                aggregate=np.median)\n",
        "\n",
        "  R_aff_chroma = librosa.segment.recurrence_matrix(beat_chroma, mode='affinity',metric='cosine',self=True)\n",
        "  R_aff_mfcc = librosa.segment.recurrence_matrix(beat_mfcc_delta, mode='affinity',metric='cosine',self=True)\n",
        "  \n",
        "  \n",
        "  R_aff_chroma=np.pad(R_aff_chroma, (50,50), 'constant', constant_values=(0, 0))\n",
        "  R_aff_mfcc=np.pad(R_aff_mfcc, (50,50), 'constant', constant_values=(0, 0))\n",
        "  \n",
        "  listefusion=liste1\n",
        "  for i in range (len(liste2)):\n",
        "    if liste2[i] not in liste1:\n",
        "      listefusion.append(liste2[i])\n",
        "      \n",
        "  listefusion=sorted(listefusion)    \n",
        "      \n",
        "  \n",
        "  dico_sousmatrice_SMJ1={}\n",
        "  for k in range (int(F/2),int(len(R_aff_chroma)-F/2)):\n",
        "    m= np.zeros((F,F))\n",
        "    for x in range (0,F-1):\n",
        "      for y in range (0,F-1):\n",
        "        m[x][y]=R_aff_chroma[int(x+(k-F/2))][int(y+(k-F/2))]\n",
        "              \n",
        "    dico_sousmatrice_SMJ1[k-int(F/2)]=m\n",
        "    \n",
        "    \n",
        "  dico_sousmatrice_SMJ2={}\n",
        "  for k in range (int(F/2),int(len(R_aff_chroma)-F/2)):\n",
        "    m= np.zeros((F,F))\n",
        "    for x in range (0,F-1):\n",
        "      for y in range (0,F-1):\n",
        "        m[x][y]=R_aff_mfcc[int(x+(k-F/2))][int(y+(k-F/2))]\n",
        "              \n",
        "    dico_sousmatrice_SMJ2[k-int(F/2)]=m \n",
        "            \n",
        "    \n",
        "    \n",
        "  #partie où on sauve avec chromas&mfcss\n",
        "  cl=np.zeros((100,100))\n",
        "  cl=Image.fromarray(np.uint8(cl*255), 'L')\n",
        "  for j in range(len(dico_sousmatrice_SMJ1)):\n",
        "    im1=dico_sousmatrice_SMJ1[j]\n",
        "    im2=dico_sousmatrice_SMJ2[j]\n",
        "    im_chroma=Image.fromarray(np.uint8(im1*255), 'L')\n",
        "    im_mfcc=Image.fromarray(np.uint8(im2*255), 'L')\n",
        "    merged=Image.merge(\"RGB\",(cl, im_mfcc, im_chroma))\n",
        "    \n",
        "    if j in listefusion:\n",
        "      merged.save('/content/drive/My Drive/Colab Notebooks/Salami preprocessing_beatsync/SSMs/Test/Test/SSM_segment_sousmatrice'+str(val)+'_'+str(j)+'.jpeg')\n",
        "    else:\n",
        "      merged.save('/content/drive/My Drive/Colab Notebooks/Salami preprocessing_beatsync/SSMs/Test/Test/SSM_sousmatrice'+str(val)+'_'+str(j)+'.jpeg') \n",
        "      \n",
        "      \n",
        "   \n",
        "  mel=librosa.feature.melspectrogram(y=y_later_use, sr=sr,n_mels=80)\n",
        "  beat_mel = librosa.util.sync(mel,beats_frames)\n",
        "  b_m=librosa.power_to_db(beat_mel,ref=np.max)\n",
        "  \n",
        "  mel_padded=np.zeros(shape=(80,len(b_m.T)+F)) \n",
        "\n",
        "  for i in range(len(b_m)):\n",
        "    x=np.insert(b_m[i], 0, -70*np.ones(50))\n",
        "    x=np.append(x,-70*np.ones(50))\n",
        "    mel_padded[i]=x\n",
        "    \n",
        "  t_m=mel_padded.T\n",
        "  dico_sousmatrice_melspectro={}\n",
        "  for k in range (int(F/2),int(len(mel_padded.T)-F/2)):\n",
        "  \n",
        "    m= np.zeros(shape=(F,80))\n",
        "    for x in range (0,F):\n",
        "      \n",
        "        m[x]=t_m[int(x+(k-F/2))]\n",
        "        \n",
        "    m=m.T          \n",
        "    dico_sousmatrice_melspectro[k-int(F/2)]=m        \n",
        "  \n",
        "  \n",
        "  #partie où on sauve melspectrog\n",
        "  for i in range(len(dico_sousmatrice_melspectro)):\n",
        "    OL=dico_sousmatrice_melspectro[i]\n",
        "    m=OL/(-80)\n",
        "    im=Image.fromarray(np.uint8(m*255), 'L')\n",
        "    \n",
        "    if i in listefusion:\n",
        "      im.save('/content/drive/My Drive/Colab Notebooks/Salami preprocessing_beatsync/melspectrog/Test/Test/melspect_segment_sousmatrice'+str(val)+'_'+str(i)+'.jpeg')\n",
        "    else:\n",
        "      im.save('/content/drive/My Drive/Colab Notebooks/Salami preprocessing_beatsync/melspectrog/Test/Test/melspect_sousmatrice'+str(val)+'_'+str(i)+'.jpeg') \n",
        "   "
      ],
      "execution_count": 0,
      "outputs": []
    },
    {
      "cell_type": "code",
      "metadata": {
        "id": "_BRI3tth99Zo",
        "colab_type": "code",
        "outputId": "bb77e3b0-1ba1-48aa-8850-fa73a12eb394",
        "colab": {
          "base_uri": "https://localhost:8080/",
          "height": 288
        }
      },
      "source": [
        "plt.figure()\n",
        "plt.imshow(R_aff_mfcc)"
      ],
      "execution_count": 0,
      "outputs": [
        {
          "output_type": "execute_result",
          "data": {
            "text/plain": [
              "<matplotlib.image.AxesImage at 0x7f3753e92a90>"
            ]
          },
          "metadata": {
            "tags": []
          },
          "execution_count": 9
        },
        {
          "output_type": "display_data",
          "data": {
            "image/png": "[encoded data removed]",
            "text/plain": [
              "<Figure size 432x288 with 1 Axes>"
            ]
          },
          "metadata": {
            "tags": []
          }
        }
      ]
    },
    {
      "cell_type": "code",
      "metadata": {
        "id": "ylwe-1wdiryv",
        "colab_type": "code",
        "outputId": "557b85ec-0406-49ba-c175-b91d2234ad71",
        "colab": {
          "base_uri": "https://localhost:8080/",
          "height": 288
        }
      },
      "source": [
        "plt.figure()\n",
        "plt.imshow(R_aff_chroma)"
      ],
      "execution_count": 0,
      "outputs": [
        {
          "output_type": "execute_result",
          "data": {
            "text/plain": [
              "<matplotlib.image.AxesImage at 0x7f3753d69390>"
            ]
          },
          "metadata": {
            "tags": []
          },
          "execution_count": 10
        },
        {
          "output_type": "display_data",
          "data": {
            "image/png": "[encoded data removed]",
            "text/plain": [
              "<Figure size 432x288 with 1 Axes>"
            ]
          },
          "metadata": {
            "tags": []
          }
        }
      ]
    }
  ]
}