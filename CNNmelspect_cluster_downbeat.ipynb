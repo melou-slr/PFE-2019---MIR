{
  "nbformat": 4,
  "nbformat_minor": 0,
  "metadata": {
    "colab": {
      "name": "CNNmelspect-cluster-downbeat.ipynb",
      "version": "0.3.2",
      "provenance": [],
      "include_colab_link": true
    },
    "kernelspec": {
      "name": "python3",
      "display_name": "Python 3"
    }
  },
  "cells": [
    {
      "cell_type": "markdown",
      "metadata": {
        "id": "view-in-github",
        "colab_type": "text"
      },
      "source": [
        "<a href=\"https://colab.research.google.com/github/melou-slr/PFE-2019---MIR/blob/master/CNNmelspect_cluster_downbeat.ipynb\" target=\"_parent\"><img src=\"https://colab.research.google.com/assets/colab-badge.svg\" alt=\"Open In Colab\"/></a>"
      ]
    },
    {
      "cell_type": "code",
      "metadata": {
        "id": "nUlaUxVf-Fvd",
        "colab_type": "code",
        "colab": {}
      },
      "source": [
        "import os\n",
        "import os.path\n",
        "from os import path\n",
        "import numpy as np\n",
        "import scipy.io\n",
        "import matplotlib.pyplot as plt\n",
        "from matplotlib import patches\n",
        "import keras\n",
        "\n",
        "from PIL import Image\n",
        "import pylab as pyl\n",
        "\n",
        "from keras import models\n",
        "from keras.models import Sequential\n",
        "from keras.layers import Conv2D\n",
        "from keras.layers import MaxPooling2D\n",
        "from keras.layers import Flatten\n",
        "from keras.layers import Dense\n",
        "from keras.layers import Dropout\n",
        "from keras.preprocessing import image\n",
        "from keras.preprocessing.image import ImageDataGenerator\n",
        "from keras.callbacks import ModelCheckpoint\n",
        "from tensorflow.keras.callbacks import TensorBoard\n",
        "\n",
        "import time"
      ],
      "execution_count": 0,
      "outputs": []
    },
    {
      "cell_type": "code",
      "metadata": {
        "id": "o6pcw_Su-Zhl",
        "colab_type": "code",
        "colab": {}
      },
      "source": [
        "# Initialising the CNN\n",
        "classifier = Sequential()\n",
        "\n",
        "# Step 1 - Convolution\n",
        "classifier.add(Conv2D(16, (6, 8), padding='same', input_shape = (80, 50, 3), activation = 'tanh'))\n",
        "classifier.add(MaxPooling2D(pool_size=(3, 6)))\n",
        "classifier.add(Conv2D(32, (6, 3), padding='same', activation = 'tanh'))\n",
        "\n",
        "# Step 2 - Flattening\n",
        "classifier.add(Flatten())\n",
        "\n",
        "# Step 3 - Full connection\n",
        "classifier.add(Dropout(0.5))\n",
        "classifier.add(Dense(units = 128, activation = 'tanh'))\n",
        "classifier.add(Dropout(0.5)) \n",
        "classifier.add(Dense(units = 1, activation = 'sigmoid'))\n",
        "\n",
        "classifier.summary()"
      ],
      "execution_count": 0,
      "outputs": []
    },
    {
      "cell_type": "code",
      "metadata": {
        "id": "iq_HKfrZ-fA7",
        "colab_type": "code",
        "colab": {}
      },
      "source": [
        "#Compiling the CNN\n",
        "from keras.optimizers import Adamax\n",
        "\n",
        "classifier.compile(loss='binary_crossentropy',optimizer=Adamax(lr=0.001, beta_1=0.9, beta_2=0.999, epsilon=None, decay=0.0),metrics=['acc'])"
      ],
      "execution_count": 0,
      "outputs": []
    },
    {
      "cell_type": "code",
      "metadata": {
        "id": "uHyNgS7j-hMB",
        "colab_type": "code",
        "colab": {}
      },
      "source": [
        "base_dir = '/workdir/soler/melspectdown/'\n",
        "train_dir = '/workdir/soler/melspectdown/Train/'\n",
        "validation_dir = '/workdir/soler/melspectdown/Validation/'\n",
        "\n",
        "\n",
        "\n",
        "# Directory with our training SMJ_nonsolo pictures\n",
        "train_SMJ_nonsolo_dir = '/workdir/soler/melspectdown/Train/Non_segment'\n",
        "\n",
        "# Directory with our training SMJ_solo pictures\n",
        "train_SMJ_solo_dir = '/workdir/soler/melspectdown/Train/Segment'\n",
        "\n",
        "\n",
        "# Directory with our test SMJ_nonsolo pictures\n",
        "validation_SMJ_nonsolo_dir = os.path.join(validation_dir, 'Non_segment')\n",
        "\n",
        "# Directory with our test SMJ_solo pictures\n",
        "validation_SMJ_solo_dir = os.path.join(validation_dir, 'Segment')\n"
      ],
      "execution_count": 0,
      "outputs": []
    },
    {
      "cell_type": "code",
      "metadata": {
        "id": "Ga7r9wuJ-s9z",
        "colab_type": "code",
        "colab": {}
      },
      "source": [
        "from tensorflow.keras.preprocessing.image import ImageDataGenerator\n",
        "\n",
        "# All images will be rescaled by 1./255\n",
        "train_datagen = ImageDataGenerator(rescale=1./255)\n",
        "validation_datagen = ImageDataGenerator(rescale=1./255)\n",
        "\n",
        "\n",
        "\n",
        "# Flow training images in batches of 128 using train_datagen generator\n",
        "train_generator = train_datagen.flow_from_directory(\n",
        "        directory=train_dir,  # This is the source directory for training images\n",
        "        target_size=(80, 50),  # All images will be resized to 100*100\n",
        "        batch_size=128,\n",
        "        # Since we use binary_crossentropy loss, we need binary labels\n",
        "        class_mode='binary')\n",
        "\n",
        "# Flow validation images in batches of 128 using validation_datagen generator\n",
        "validation_generator = validation_datagen.flow_from_directory(\n",
        "        directory=validation_dir,\n",
        "        target_size=(80, 50),\n",
        "        batch_size=128,\n",
        "        class_mode='binary')\n"
      ],
      "execution_count": 0,
      "outputs": []
    },
    {
      "cell_type": "code",
      "metadata": {
        "id": "yMZ2Oo2A-z72",
        "colab_type": "code",
        "colab": {}
      },
      "source": [
        "# checkpoint\n",
        "filepath=\"/workdir/soler/downbeatmelspect-weights-improvement-{epoch:02d}-{val_acc:.2f}.h5\"\n",
        "checkpoint = ModelCheckpoint(filepath, monitor='val_loss', verbose=1, save_best_only=True, mode='min')\n",
        "callbacks_list = [checkpoint]"
      ],
      "execution_count": 0,
      "outputs": []
    },
    {
      "cell_type": "code",
      "metadata": {
        "id": "F1wGcagq-7OD",
        "colab_type": "code",
        "colab": {}
      },
      "source": [
        "history = classifier.fit_generator(\n",
        "      train_generator,\n",
        "      steps_per_epoch=270,  # nb images = batch_size * steps\n",
        "      epochs=25,\n",
        "      validation_data=validation_generator,\n",
        "      validation_steps=25,  # nb images = batch_size * steps\n",
        "      verbose=1,\n",
        "      class_weight = { 0 : 1, 1 : 3},\n",
        "      callbacks=callbacks_list)\n",
        "\n",
        "classifier.save('/workdir/soler/my_model_test_architecture article_onlymelspectrogdownbeat_25epochs_tansigmoid_weight3.h5')"
      ],
      "execution_count": 0,
      "outputs": []
    }
  ]
}